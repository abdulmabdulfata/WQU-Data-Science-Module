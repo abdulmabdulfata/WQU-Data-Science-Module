{
 "cells": [
  {
   "cell_type": "code",
   "execution_count": 1,
   "metadata": {
    "init_cell": true
   },
   "outputs": [],
   "source": [
    "%logstop\n",
    "%logstart -ortq ~/.logs/pw.py append\n",
    "%matplotlib inline\n",
    "import matplotlib\n",
    "import seaborn as sns\n",
    "sns.set()\n",
    "matplotlib.rcParams['figure.dpi'] = 144"
   ]
  },
  {
   "cell_type": "code",
   "execution_count": 3,
   "metadata": {},
   "outputs": [],
   "source": [
    "from static_grader import grader"
   ]
  },
  {
   "cell_type": "markdown",
   "metadata": {},
   "source": [
    "# PW Miniproject\n",
    "## Introduction\n",
    "\n",
    "The objective of this miniproject is to exercise your ability to use basic Python data structures, define functions, and control program flow. We will be using these concepts to perform some fundamental data wrangling tasks such as joining data sets together, splitting data into groups, and aggregating data into summary statistics.\n",
    "**Please do not use `pandas` or `numpy` to answer these questions.**\n",
    "\n",
    "We will be working with medical data from the British NHS on prescription drugs. Since this is real data, it contains many ambiguities that we will need to confront in our analysis. This is commonplace in data science, and is one of the lessons you will learn in this miniproject."
   ]
  },
  {
   "cell_type": "markdown",
   "metadata": {},
   "source": [
    "## Downloading the data\n",
    "\n",
    "We first need to download the data we'll be using from Amazon S3:"
   ]
  },
  {
   "cell_type": "code",
   "execution_count": 4,
   "metadata": {},
   "outputs": [
    {
     "name": "stderr",
     "output_type": "stream",
     "text": [
      "--2020-03-01 12:11:16--  http://dataincubator-wqu.s3.amazonaws.com/pwdata/201701scripts_sample.json.gz\n",
      "Resolving dataincubator-wqu.s3.amazonaws.com (dataincubator-wqu.s3.amazonaws.com)... 52.216.136.236\n",
      "Connecting to dataincubator-wqu.s3.amazonaws.com (dataincubator-wqu.s3.amazonaws.com)|52.216.136.236|:80... connected.\n",
      "HTTP request sent, awaiting response... 200 OK\n",
      "Length: 10367709 (9.9M) [application/json]\n",
      "Saving to: ‘./pw-data/201701scripts_sample.json.gz’\n",
      "\n",
      "     0K .......... .......... .......... .......... ..........  0% 23.7M 0s\n",
      "    50K .......... .......... .......... .......... ..........  0% 28.8M 0s\n",
      "   100K .......... .......... .......... .......... ..........  1% 27.1M 0s\n",
      "   150K .......... .......... .......... .......... ..........  1% 36.0M 0s\n",
      "   200K .......... .......... .......... .......... ..........  2% 32.0M 0s\n",
      "   250K .......... .......... .......... .......... ..........  2% 32.6M 0s\n",
      "   300K .......... .......... .......... .......... ..........  3% 40.0M 0s\n",
      "   350K .......... .......... .......... .......... ..........  3% 41.3M 0s\n",
      "   400K .......... .......... .......... .......... ..........  4% 37.6M 0s\n",
      "   450K .......... .......... .......... .......... ..........  4% 48.8M 0s\n",
      "   500K .......... .......... .......... .......... ..........  5% 46.8M 0s\n",
      "   550K .......... .......... .......... .......... ..........  5% 45.8M 0s\n",
      "   600K .......... .......... .......... .......... ..........  6% 48.0M 0s\n",
      "   650K .......... .......... .......... .......... ..........  6% 45.3M 0s\n",
      "   700K .......... .......... .......... .......... ..........  7% 66.6M 0s\n",
      "   750K .......... .......... .......... .......... ..........  7% 42.3M 0s\n",
      "   800K .......... .......... .......... .......... ..........  8% 64.0M 0s\n",
      "   850K .......... .......... .......... .......... ..........  8% 74.6M 0s\n",
      "   900K .......... .......... .......... .......... ..........  9% 61.1M 0s\n",
      "   950K .......... .......... .......... .......... ..........  9% 72.2M 0s\n",
      "  1000K .......... .......... .......... .......... .......... 10% 20.2M 0s\n",
      "  1050K .......... .......... .......... .......... .......... 10%  169M 0s\n",
      "  1100K .......... .......... .......... .......... .......... 11% 35.5M 0s\n",
      "  1150K .......... .......... .......... .......... .......... 11% 89.5M 0s\n",
      "  1200K .......... .......... .......... .......... .......... 12% 52.6M 0s\n",
      "  1250K .......... .......... .......... .......... .......... 12%  202M 0s\n",
      "  1300K .......... .......... .......... .......... .......... 13% 33.2M 0s\n",
      "  1350K .......... .......... .......... .......... .......... 13% 93.4M 0s\n",
      "  1400K .......... .......... .......... .......... .......... 14% 43.0M 0s\n",
      "  1450K .......... .......... .......... .......... .......... 14%  273M 0s\n",
      "  1500K .......... .......... .......... .......... .......... 15% 48.9M 0s\n",
      "  1550K .......... .......... .......... .......... .......... 15% 86.6M 0s\n",
      "  1600K .......... .......... .......... .......... .......... 16% 81.4M 0s\n",
      "  1650K .......... .......... .......... .......... .......... 16% 50.2M 0s\n",
      "  1700K .......... .......... .......... .......... .......... 17%  203M 0s\n",
      "  1750K .......... .......... .......... .......... .......... 17%  359M 0s\n",
      "  1800K .......... .......... .......... .......... .......... 18%  146M 0s\n",
      "  1850K .......... .......... .......... .......... .......... 18% 42.6M 0s\n",
      "  1900K .......... .......... .......... .......... .......... 19% 44.9M 0s\n",
      "  1950K .......... .......... .......... .......... .......... 19% 64.1M 0s\n",
      "  2000K .......... .......... .......... .......... .......... 20%  286M 0s\n",
      "  2050K .......... .......... .......... .......... .......... 20%  183M 0s\n",
      "  2100K .......... .......... .......... .......... .......... 21%  307M 0s\n",
      "  2150K .......... .......... .......... .......... .......... 21%  264M 0s\n",
      "  2200K .......... .......... .......... .......... .......... 22%  216M 0s\n",
      "  2250K .......... .......... .......... .......... .......... 22% 44.1M 0s\n",
      "  2300K .......... .......... .......... .......... .......... 23% 33.6M 0s\n",
      "  2350K .......... .......... .......... .......... .......... 23% 55.9M 0s\n",
      "  2400K .......... .......... .......... .......... .......... 24%  198M 0s\n",
      "  2450K .......... .......... .......... .......... .......... 24%  284M 0s\n",
      "  2500K .......... .......... .......... .......... .......... 25%  265M 0s\n",
      "  2550K .......... .......... .......... .......... .......... 25%  247M 0s\n",
      "  2600K .......... .......... .......... .......... .......... 26%  176M 0s\n",
      "  2650K .......... .......... .......... .......... .......... 26%  197M 0s\n",
      "  2700K .......... .......... .......... .......... .......... 27%  287M 0s\n",
      "  2750K .......... .......... .......... .......... .......... 27%  349M 0s\n",
      "  2800K .......... .......... .......... .......... .......... 28%  364M 0s\n",
      "  2850K .......... .......... .......... .......... .......... 28% 31.6M 0s\n",
      "  2900K .......... .......... .......... .......... .......... 29% 42.8M 0s\n",
      "  2950K .......... .......... .......... .......... .......... 29% 50.2M 0s\n",
      "  3000K .......... .......... .......... .......... .......... 30% 37.1M 0s\n",
      "  3050K .......... .......... .......... .......... .......... 30% 35.2M 0s\n",
      "  3100K .......... .......... .......... .......... .......... 31% 27.0M 0s\n",
      "  3150K .......... .......... .......... .......... .......... 31%  168M 0s\n",
      "  3200K .......... .......... .......... .......... .......... 32%  293M 0s\n",
      "  3250K .......... .......... .......... .......... .......... 32% 42.2M 0s\n",
      "  3300K .......... .......... .......... .......... .......... 33% 45.7M 0s\n",
      "  3350K .......... .......... .......... .......... .......... 33% 64.3M 0s\n",
      "  3400K .......... .......... .......... .......... .......... 34%  168M 0s\n",
      "  3450K .......... .......... .......... .......... .......... 34%  288M 0s\n",
      "  3500K .......... .......... .......... .......... .......... 35%  284M 0s\n",
      "  3550K .......... .......... .......... .......... .......... 35%  272M 0s\n",
      "  3600K .......... .......... .......... .......... .......... 36%  347M 0s\n",
      "  3650K .......... .......... .......... .......... .......... 36%  202M 0s\n",
      "  3700K .......... .......... .......... .......... .......... 37%  308M 0s\n",
      "  3750K .......... .......... .......... .......... .......... 37%  230M 0s\n",
      "  3800K .......... .......... .......... .......... .......... 38%  357M 0s\n",
      "  3850K .......... .......... .......... .......... .......... 38%  255M 0s\n",
      "  3900K .......... .......... .......... .......... .......... 39%  266M 0s\n",
      "  3950K .......... .......... .......... .......... .......... 39%  206M 0s\n",
      "  4000K .......... .......... .......... .......... .......... 40%  208M 0s\n",
      "  4050K .......... .......... .......... .......... .......... 40%  364M 0s\n",
      "  4100K .......... .......... .......... .......... .......... 40%  228M 0s\n",
      "  4150K .......... .......... .......... .......... .......... 41%  347M 0s\n",
      "  4200K .......... .......... .......... .......... .......... 41% 50.6M 0s\n",
      "  4250K .......... .......... .......... .......... .......... 42% 51.7M 0s\n",
      "  4300K .......... .......... .......... .......... .......... 42% 48.5M 0s\n",
      "  4350K .......... .......... .......... .......... .......... 43% 58.7M 0s\n",
      "  4400K .......... .......... .......... .......... .......... 43% 51.1M 0s\n",
      "  4450K .......... .......... .......... .......... .......... 44% 60.0M 0s\n",
      "  4500K .......... .......... .......... .......... .......... 44% 45.1M 0s\n",
      "  4550K .......... .......... .......... .......... .......... 45% 50.6M 0s\n",
      "  4600K .......... .......... .......... .......... .......... 45% 41.2M 0s\n",
      "  4650K .......... .......... .......... .......... .......... 46% 52.2M 0s\n",
      "  4700K .......... .......... .......... .......... .......... 46%  152M 0s\n",
      "  4750K .......... .......... .......... .......... .......... 47%  220M 0s\n",
      "  4800K .......... .......... .......... .......... .......... 47%  278M 0s\n",
      "  4850K .......... .......... .......... .......... .......... 48%  283M 0s\n",
      "  4900K .......... .......... .......... .......... .......... 48%  205M 0s\n",
      "  4950K .......... .......... .......... .......... .......... 49%  234M 0s\n",
      "  5000K .......... .......... .......... .......... .......... 49%  314M 0s\n",
      "  5050K .......... .......... .......... .......... .......... 50%  233M 0s\n",
      "  5100K .......... .......... .......... .......... .......... 50%  173M 0s\n",
      "  5150K .......... .......... .......... .......... .......... 51%  357M 0s\n",
      "  5200K .......... .......... .......... .......... .......... 51%  200M 0s\n",
      "  5250K .......... .......... .......... .......... .......... 52% 67.7M 0s\n",
      "  5300K .......... .......... .......... .......... .......... 52% 49.6M 0s\n",
      "  5350K .......... .......... .......... .......... .......... 53% 45.1M 0s\n",
      "  5400K .......... .......... .......... .......... .......... 53% 49.1M 0s\n",
      "  5450K .......... .......... .......... .......... .......... 54% 64.0M 0s\n",
      "  5500K .......... .......... .......... .......... .......... 54% 65.7M 0s\n",
      "  5550K .......... .......... .......... .......... .......... 55% 52.1M 0s\n",
      "  5600K .......... .......... .......... .......... .......... 55% 61.8M 0s\n",
      "  5650K .......... .......... .......... .......... .......... 56% 52.1M 0s\n",
      "  5700K .......... .......... .......... .......... .......... 56% 66.9M 0s\n",
      "  5750K .......... .......... .......... .......... .......... 57%  290M 0s\n",
      "  5800K .......... .......... .......... .......... .......... 57% 53.9M 0s\n",
      "  5850K .......... .......... .......... .......... .......... 58%  353M 0s\n",
      "  5900K .......... .......... .......... .......... .......... 58%  356M 0s\n",
      "  5950K .......... .......... .......... .......... .......... 59% 37.6M 0s\n",
      "  6000K .......... .......... .......... .......... .......... 59% 52.6M 0s\n",
      "  6050K .......... .......... .......... .......... .......... 60%  210M 0s\n",
      "  6100K .......... .......... .......... .......... .......... 60% 55.3M 0s\n",
      "  6150K .......... .......... .......... .......... .......... 61% 76.3M 0s\n",
      "  6200K .......... .......... .......... .......... .......... 61%  244M 0s\n",
      "  6250K .......... .......... .......... .......... .......... 62% 83.4M 0s\n",
      "  6300K .......... .......... .......... .......... .......... 62% 51.8M 0s\n",
      "  6350K .......... .......... .......... .......... .......... 63% 50.7M 0s\n",
      "  6400K .......... .......... .......... .......... .......... 63% 42.2M 0s\n",
      "  6450K .......... .......... .......... .......... .......... 64% 67.5M 0s\n",
      "  6500K .......... .......... .......... .......... .......... 64%  274M 0s\n",
      "  6550K .......... .......... .......... .......... .......... 65%  169M 0s\n",
      "  6600K .......... .......... .......... .......... .......... 65% 39.1M 0s\n",
      "  6650K .......... .......... .......... .......... .......... 66% 46.2M 0s\n",
      "  6700K .......... .......... .......... .......... .......... 66% 83.6M 0s\n",
      "  6750K .......... .......... .......... .......... .......... 67%  296M 0s\n",
      "  6800K .......... .......... .......... .......... .......... 67%  261M 0s\n",
      "  6850K .......... .......... .......... .......... .......... 68%  287M 0s\n",
      "  6900K .......... .......... .......... .......... .......... 68%  273M 0s\n",
      "  6950K .......... .......... .......... .......... .......... 69%  214M 0s\n",
      "  7000K .......... .......... .......... .......... .......... 69%  120M 0s\n",
      "  7050K .......... .......... .......... .......... .......... 70% 38.8M 0s\n",
      "  7100K .......... .......... .......... .......... .......... 70% 47.9M 0s\n",
      "  7150K .......... .......... .......... .......... .......... 71% 49.2M 0s\n",
      "  7200K .......... .......... .......... .......... .......... 71% 46.3M 0s\n",
      "  7250K .......... .......... .......... .......... .......... 72% 39.8M 0s\n",
      "  7300K .......... .......... .......... .......... .......... 72% 63.2M 0s\n",
      "  7350K .......... .......... .......... .......... .......... 73%  224M 0s\n",
      "  7400K .......... .......... .......... .......... .......... 73%  256M 0s\n",
      "  7450K .......... .......... .......... .......... .......... 74%  264M 0s\n",
      "  7500K .......... .......... .......... .......... .......... 74%  231M 0s\n",
      "  7550K .......... .......... .......... .......... .......... 75%  219M 0s\n",
      "  7600K .......... .......... .......... .......... .......... 75%  206M 0s\n",
      "  7650K .......... .......... .......... .......... .......... 76%  163M 0s\n",
      "  7700K .......... .......... .......... .......... .......... 76%  220M 0s\n",
      "  7750K .......... .......... .......... .......... .......... 77%  265M 0s\n",
      "  7800K .......... .......... .......... .......... .......... 77% 61.1M 0s\n",
      "  7850K .......... .......... .......... .......... .......... 78% 42.6M 0s\n",
      "  7900K .......... .......... .......... .......... .......... 78% 47.9M 0s\n",
      "  7950K .......... .......... .......... .......... .......... 79% 51.3M 0s\n",
      "  8000K .......... .......... .......... .......... .......... 79% 70.4M 0s\n",
      "  8050K .......... .......... .......... .......... .......... 80% 71.9M 0s\n",
      "  8100K .......... .......... .......... .......... .......... 80% 60.4M 0s\n",
      "  8150K .......... .......... .......... .......... .......... 80% 4.43M 0s\n",
      "  8200K .......... .......... .......... .......... .......... 81% 58.2M 0s\n",
      "  8250K .......... .......... .......... .......... .......... 81% 75.0M 0s\n",
      "  8300K .......... .......... .......... .......... .......... 82%  167M 0s\n",
      "  8350K .......... .......... .......... .......... .......... 82% 45.4M 0s\n",
      "  8400K .......... .......... .......... .......... .......... 83% 37.7M 0s\n",
      "  8450K .......... .......... .......... .......... .......... 83% 35.6M 0s\n",
      "  8500K .......... .......... .......... .......... .......... 84% 99.9M 0s\n",
      "  8550K .......... .......... .......... .......... .......... 84%  197M 0s\n",
      "  8600K .......... .......... .......... .......... .......... 85%  221M 0s\n",
      "  8650K .......... .......... .......... .......... .......... 85%  212M 0s\n",
      "  8700K .......... .......... .......... .......... .......... 86%  269M 0s\n",
      "  8750K .......... .......... .......... .......... .......... 86%  167M 0s\n",
      "  8800K .......... .......... .......... .......... .......... 87%  205M 0s\n",
      "  8850K .......... .......... .......... .......... .......... 87%  199M 0s\n",
      "  8900K .......... .......... .......... .......... .......... 88%  217M 0s\n",
      "  8950K .......... .......... .......... .......... .......... 88%  230M 0s\n",
      "  9000K .......... .......... .......... .......... .......... 89% 48.0M 0s\n",
      "  9050K .......... .......... .......... .......... .......... 89% 41.4M 0s\n",
      "  9100K .......... .......... .......... .......... .......... 90% 41.6M 0s\n",
      "  9150K .......... .......... .......... .......... .......... 90% 34.6M 0s\n",
      "  9200K .......... .......... .......... .......... .......... 91% 54.7M 0s\n",
      "  9250K .......... .......... .......... .......... .......... 91% 51.1M 0s\n",
      "  9300K .......... .......... .......... .......... .......... 92% 47.2M 0s\n",
      "  9350K .......... .......... .......... .......... .......... 92% 43.9M 0s\n",
      "  9400K .......... .......... .......... .......... .......... 93%  208M 0s\n",
      "  9450K .......... .......... .......... .......... .......... 93%  341M 0s\n",
      "  9500K .......... .......... .......... .......... .......... 94%  293M 0s\n",
      "  9550K .......... .......... .......... .......... .......... 94%  306M 0s\n",
      "  9600K .......... .......... .......... .......... .......... 95%  340M 0s\n",
      "  9650K .......... .......... .......... .......... .......... 95%  304M 0s\n",
      "  9700K .......... .......... .......... .......... .......... 96%  358M 0s\n",
      "  9750K .......... .......... .......... .......... .......... 96%  127M 0s\n",
      "  9800K .......... .......... .......... .......... .......... 97% 68.8M 0s\n",
      "  9850K .......... .......... .......... .......... .......... 97% 72.1M 0s\n",
      "  9900K .......... .......... .......... .......... .......... 98% 68.8M 0s\n",
      "  9950K .......... .......... .......... .......... .......... 98% 60.0M 0s\n",
      " 10000K .......... .......... .......... .......... .......... 99% 70.4M 0s\n",
      " 10050K .......... .......... .......... .......... .......... 99%  152M 0s\n",
      " 10100K .......... .......... ....                            100%  333M=0.1s\n",
      "\n",
      "2020-03-01 12:11:16 (68.9 MB/s) - ‘./pw-data/201701scripts_sample.json.gz’ saved [10367709/10367709]\n",
      "\n",
      "--2020-03-01 12:11:16--  http://dataincubator-wqu.s3.amazonaws.com/pwdata/practices.json.gz\n",
      "Resolving dataincubator-wqu.s3.amazonaws.com (dataincubator-wqu.s3.amazonaws.com)... 52.216.104.19\n",
      "Connecting to dataincubator-wqu.s3.amazonaws.com (dataincubator-wqu.s3.amazonaws.com)|52.216.104.19|:80... connected.\n",
      "HTTP request sent, awaiting response... 200 OK\n",
      "Length: 402461 (393K) [application/json]\n",
      "Saving to: ‘./pw-data/practices.json.gz’\n",
      "\n",
      "     0K .......... .......... .......... .......... .......... 12% 32.1M 0s\n",
      "    50K .......... .......... .......... .......... .......... 25% 25.1M 0s\n",
      "   100K .......... .......... .......... .......... .......... 38% 40.6M 0s\n",
      "   150K .......... .......... .......... .......... .......... 50% 37.7M 0s\n",
      "   200K .......... .......... .......... .......... .......... 63% 35.9M 0s\n",
      "   250K .......... .......... .......... .......... .......... 76% 43.4M 0s\n",
      "   300K .......... .......... .......... .......... .......... 89% 42.5M 0s\n",
      "   350K .......... .......... .......... .......... ...       100% 57.1M=0.01s\n",
      "\n",
      "2020-03-01 12:11:17 (37.1 MB/s) - ‘./pw-data/practices.json.gz’ saved [402461/402461]\n",
      "\n"
     ]
    }
   ],
   "source": [
    "%%bash\n",
    "mkdir pw-data\n",
    "wget http://dataincubator-wqu.s3.amazonaws.com/pwdata/201701scripts_sample.json.gz -nc -P ./pw-data\n",
    "wget http://dataincubator-wqu.s3.amazonaws.com/pwdata/practices.json.gz -nc -P ./pw-data"
   ]
  },
  {
   "cell_type": "markdown",
   "metadata": {},
   "source": [
    "## Loading the data\n",
    "\n",
    "The first step of the project is to read in the data. We will discuss reading and writing various kinds of files later in the course, but the code below should get you started."
   ]
  },
  {
   "cell_type": "code",
   "execution_count": 4,
   "metadata": {},
   "outputs": [],
   "source": [
    "import gzip\n",
    "import simplejson as json"
   ]
  },
  {
   "cell_type": "code",
   "execution_count": 5,
   "metadata": {},
   "outputs": [],
   "source": [
    "with gzip.open('./pw-data/201701scripts_sample.json.gz', 'rb') as f:\n",
    "    scripts = json.load(f)\n",
    "\n",
    "with gzip.open('./pw-data/practices.json.gz', 'rb') as f:\n",
    "    practices = json.load(f)"
   ]
  },
  {
   "cell_type": "markdown",
   "metadata": {},
   "source": [
    "This data set comes from Britain's National Health Service. The `scripts` variable is a list of prescriptions issued by NHS doctors. Each prescription is represented by a dictionary with various data fields: `'practice'`, `'bnf_code'`, `'bnf_name'`, `'quantity'`, `'items'`, `'nic'`, and `'act_cost'`. "
   ]
  },
  {
   "cell_type": "code",
   "execution_count": 6,
   "metadata": {},
   "outputs": [
    {
     "data": {
      "text/plain": [
       "[{'bnf_code': '0101010G0AAABAB',\n",
       "  'items': 2,\n",
       "  'practice': 'N81013',\n",
       "  'bnf_name': 'Co-Magaldrox_Susp 195mg/220mg/5ml S/F',\n",
       "  'nic': 5.98,\n",
       "  'act_cost': 5.56,\n",
       "  'quantity': 1000},\n",
       " {'bnf_code': '0101021B0AAAHAH',\n",
       "  'items': 1,\n",
       "  'practice': 'N81013',\n",
       "  'bnf_name': 'Alginate_Raft-Forming Oral Susp S/F',\n",
       "  'nic': 1.95,\n",
       "  'act_cost': 1.82,\n",
       "  'quantity': 500}]"
      ]
     },
     "execution_count": 6,
     "metadata": {},
     "output_type": "execute_result"
    }
   ],
   "source": [
    "scripts[:2]"
   ]
  },
  {
   "cell_type": "markdown",
   "metadata": {},
   "source": [
    "A [glossary of terms](http://webarchive.nationalarchives.gov.uk/20180328130852tf_/http://content.digital.nhs.uk/media/10686/Download-glossary-of-terms-for-GP-prescribing---presentation-level/pdf/PLP_Presentation_Level_Glossary_April_2015.pdf/) and [FAQ](http://webarchive.nationalarchives.gov.uk/20180328130852tf_/http://content.digital.nhs.uk/media/10048/FAQs-Practice-Level-Prescribingpdf/pdf/PLP_FAQs_April_2015.pdf/) is available from the NHS regarding the data. Below we supply a data dictionary briefly describing what these fields mean.\n",
    "\n",
    "| Data field |Description|\n",
    "|:----------:|-----------|\n",
    "|`'practice'`|Code designating the medical practice issuing the prescription|\n",
    "|`'bnf_code'`|British National Formulary drug code|\n",
    "|`'bnf_name'`|British National Formulary drug name|\n",
    "|`'quantity'`|Number of capsules/quantity of liquid/grams of powder prescribed|\n",
    "| `'items'`  |Number of refills (e.g. if `'quantity'` is 30 capsules, 3 `'items'` means 3 bottles of 30 capsules)|\n",
    "|  `'nic'`   |Net ingredient cost|\n",
    "|`'act_cost'`|Total cost including containers, fees, and discounts|"
   ]
  },
  {
   "cell_type": "markdown",
   "metadata": {},
   "source": [
    "The `practices` variable is a list of member medical practices of the NHS. Each practice is represented by a dictionary containing identifying information for the medical practice. Most of the data fields are self-explanatory. Notice the values in the `'code'` field of `practices` match the values in the `'practice'` field of `scripts`."
   ]
  },
  {
   "cell_type": "code",
   "execution_count": 20,
   "metadata": {},
   "outputs": [
    {
     "data": {
      "text/plain": [
       "[{'code': 'A81001',\n",
       "  'name': 'THE DENSHAM SURGERY',\n",
       "  'addr_1': 'THE HEALTH CENTRE',\n",
       "  'addr_2': 'LAWSON STREET',\n",
       "  'borough': 'STOCKTON ON TEES',\n",
       "  'village': 'CLEVELAND',\n",
       "  'post_code': 'TS18 1HU'},\n",
       " {'code': 'A81002',\n",
       "  'name': 'QUEENS PARK MEDICAL CENTRE',\n",
       "  'addr_1': 'QUEENS PARK MEDICAL CTR',\n",
       "  'addr_2': 'FARRER STREET',\n",
       "  'borough': 'STOCKTON ON TEES',\n",
       "  'village': 'CLEVELAND',\n",
       "  'post_code': 'TS18 2AW'},\n",
       " {'code': 'A81003',\n",
       "  'name': 'VICTORIA MEDICAL PRACTICE',\n",
       "  'addr_1': 'THE HEALTH CENTRE',\n",
       "  'addr_2': 'VICTORIA ROAD',\n",
       "  'borough': 'HARTLEPOOL',\n",
       "  'village': 'CLEVELAND',\n",
       "  'post_code': 'TS26 8DB'},\n",
       " {'code': 'A81004',\n",
       "  'name': 'WOODLANDS ROAD SURGERY',\n",
       "  'addr_1': '6 WOODLANDS ROAD',\n",
       "  'addr_2': None,\n",
       "  'borough': 'MIDDLESBROUGH',\n",
       "  'village': 'CLEVELAND',\n",
       "  'post_code': 'TS1 3BE'},\n",
       " {'code': 'A81005',\n",
       "  'name': 'SPRINGWOOD SURGERY',\n",
       "  'addr_1': 'SPRINGWOOD SURGERY',\n",
       "  'addr_2': 'RECTORY LANE',\n",
       "  'borough': 'GUISBOROUGH',\n",
       "  'village': None,\n",
       "  'post_code': 'TS14 7DJ'},\n",
       " {'code': 'A81006',\n",
       "  'name': 'TENNANT STREET MEDICAL PRACTICE',\n",
       "  'addr_1': 'TENNANT ST MED PRACT',\n",
       "  'addr_2': 'FARRER STREET',\n",
       "  'borough': 'STOCKTON ON TEES',\n",
       "  'village': 'CLEVELAND',\n",
       "  'post_code': 'TS18 2AT'},\n",
       " {'code': 'A81007',\n",
       "  'name': 'BANKHOUSE SURGERY',\n",
       "  'addr_1': 'ONE LIFE HARTLEPOOL',\n",
       "  'addr_2': 'PARK ROAD',\n",
       "  'borough': 'HARTLEPOOL',\n",
       "  'village': 'CLEVELAND',\n",
       "  'post_code': 'TS24 7PW'},\n",
       " {'code': 'A81008',\n",
       "  'name': 'ALBERT HOUSE CLINIC',\n",
       "  'addr_1': 'LOW GRANGE HEALTH VILLAGE',\n",
       "  'addr_2': 'NORMANBY ROAD',\n",
       "  'borough': 'MIDDLESBROUGH',\n",
       "  'village': 'CLEVELAND',\n",
       "  'post_code': 'TS6 6TD'},\n",
       " {'code': 'A81009',\n",
       "  'name': 'VILLAGE MEDICAL CENTRE',\n",
       "  'addr_1': 'THE VILLAGE MEDICAL CTR',\n",
       "  'addr_2': '400/404 LINTHORPE ROAD',\n",
       "  'borough': 'MIDDLESBROUGH',\n",
       "  'village': 'CLEVELAND',\n",
       "  'post_code': 'TS5 6HF'},\n",
       " {'code': 'A81011',\n",
       "  'name': 'CHADWICK PRACTICE',\n",
       "  'addr_1': 'ONE LIFE HARTLEPOOL',\n",
       "  'addr_2': 'PARK ROAD',\n",
       "  'borough': 'HARTLEPOOL',\n",
       "  'village': 'CLEVELAND',\n",
       "  'post_code': 'TS24 7PW'},\n",
       " {'code': 'A81012',\n",
       "  'name': 'WESTBOURNE MEDICAL CENTRE',\n",
       "  'addr_1': 'WESTBOURNE MEDICAL CENTRE',\n",
       "  'addr_2': '7 TRINITY MEWS N. ORMESBY',\n",
       "  'borough': 'MIDDLESBROUGH',\n",
       "  'village': None,\n",
       "  'post_code': 'TS3 6AL'},\n",
       " {'code': 'A81013',\n",
       "  'name': 'BROTTON SURGERY',\n",
       "  'addr_1': 'BROTTON SURGERY',\n",
       "  'addr_2': 'ALFORD ROAD BROTTON',\n",
       "  'borough': 'SALTBURN BY SEA',\n",
       "  'village': None,\n",
       "  'post_code': 'TS12 2FF'},\n",
       " {'code': 'A81014',\n",
       "  'name': 'QUEENSTREE PRACTICE',\n",
       "  'addr_1': 'THE HEALTH CENTRE',\n",
       "  'addr_2': 'QUEENSWAY',\n",
       "  'borough': 'BILLINGHAM',\n",
       "  'village': 'CLEVELAND',\n",
       "  'post_code': 'TS23 2LA'},\n",
       " {'code': 'A81015',\n",
       "  'name': 'LAGAN SURGERY',\n",
       "  'addr_1': 'LAGAN SURGERY',\n",
       "  'addr_2': '20 KIRKLEATHAM STREET',\n",
       "  'borough': 'REDCAR',\n",
       "  'village': 'CLEVELAND',\n",
       "  'post_code': 'TS10 1TZ'},\n",
       " {'code': 'A81016',\n",
       "  'name': 'PARK SURGERY',\n",
       "  'addr_1': 'PARK SURGERY  ONE LIFE',\n",
       "  'addr_2': 'LINTHORPE ROAD',\n",
       "  'borough': 'MIDDLESBROUGH',\n",
       "  'village': 'CLEVELAND',\n",
       "  'post_code': 'TS1 3QY'},\n",
       " {'code': 'A81017',\n",
       "  'name': 'WOODBRIDGE PRACTICE',\n",
       "  'addr_1': 'THE HEALTH CENTRE',\n",
       "  'addr_2': 'TRENCHARD AVE  THORNABY',\n",
       "  'borough': 'STOCKTON ON TEES',\n",
       "  'village': 'CLEVELAND',\n",
       "  'post_code': 'TS17 0EE'},\n",
       " {'code': 'A81018',\n",
       "  'name': 'BENTLEY MEDICAL PRACTICE',\n",
       "  'addr_1': 'REDCAR PRIMARY CARE HOSP',\n",
       "  'addr_2': 'WEST DYKE ROAD',\n",
       "  'borough': 'REDCAR',\n",
       "  'village': 'CLEVELAND',\n",
       "  'post_code': 'TS10 4NW'},\n",
       " {'code': 'A81019',\n",
       "  'name': 'CROSSFELL HEALTH CENTRE',\n",
       "  'addr_1': 'CROSSFELL ROAD',\n",
       "  'addr_2': 'BERWICK HILLS',\n",
       "  'borough': 'MIDDLESBROUGH',\n",
       "  'village': 'CLEVELAND',\n",
       "  'post_code': 'TS3 7RL'},\n",
       " {'code': 'A81020',\n",
       "  'name': 'MARTONSIDE MEDICAL CENTRE',\n",
       "  'addr_1': 'MARTONSIDE MEDICAL CENTRE',\n",
       "  'addr_2': '1A MARTONSIDE WAY',\n",
       "  'borough': 'MIDDLESBROUGH',\n",
       "  'village': 'CLEVELAND',\n",
       "  'post_code': 'TS4 3BU'},\n",
       " {'code': 'A81021',\n",
       "  'name': 'NORMANBY MEDICAL CENTRE',\n",
       "  'addr_1': 'NORMANBY MEDICAL CENTRE',\n",
       "  'addr_2': 'LOW GRANGE HV NORMANBY RD',\n",
       "  'borough': 'MIDDLESBROUGH',\n",
       "  'village': 'CLEVELAND',\n",
       "  'post_code': 'TS6 6TD'},\n",
       " {'code': 'A81022',\n",
       "  'name': 'HILLSIDE PRACTICE',\n",
       "  'addr_1': 'HILLSIDE PRACTICE',\n",
       "  'addr_2': 'WINDERMERE DRIVE SKELTON',\n",
       "  'borough': 'SALTBURN BY THE SEA',\n",
       "  'village': 'CLEVELAND',\n",
       "  'post_code': 'TS12 2TG'},\n",
       " {'code': 'A81023',\n",
       "  'name': 'THE ENDEAVOUR PRACTICE',\n",
       "  'addr_1': 'THE HEALTH CENTRE',\n",
       "  'addr_2': '20 CLEVELAND SQUARE',\n",
       "  'borough': 'MIDDLESBROUGH',\n",
       "  'village': 'CLEVELAND',\n",
       "  'post_code': 'TS1 2NX'},\n",
       " {'code': 'A81025',\n",
       "  'name': 'THE DOVECOT SURGERY',\n",
       "  'addr_1': 'THE HEALTH CENTRE',\n",
       "  'addr_2': 'LAWSON STREET',\n",
       "  'borough': 'STOCKTON ON TEES',\n",
       "  'village': 'CLEVELAND',\n",
       "  'post_code': 'TS18 1HU'},\n",
       " {'code': 'A81026',\n",
       "  'name': 'THE LINTHORPE SURGERY',\n",
       "  'addr_1': '378 LINTHORPE ROAD',\n",
       "  'addr_2': None,\n",
       "  'borough': 'MIDDLESBROUGH',\n",
       "  'village': 'CLEVELAND',\n",
       "  'post_code': 'TS5 6HA'},\n",
       " {'code': 'A81027',\n",
       "  'name': 'YARM MEDICAL PRACTICE',\n",
       "  'addr_1': 'YARM MEDICAL PRACTICE',\n",
       "  'addr_2': 'MULBERRY HOUSE',\n",
       "  'borough': '1 WORSALL ROAD',\n",
       "  'village': 'YARM  CLEVELAND',\n",
       "  'post_code': 'TS15 9DD'},\n",
       " {'code': 'A81029',\n",
       "  'name': 'PROSPECT SURGERY',\n",
       "  'addr_1': 'THE HEALTH CENTRE',\n",
       "  'addr_2': 'PO BOX 101E',\n",
       "  'borough': '20 CLEVELAND SQUARE',\n",
       "  'village': 'MIDDLESBROUGH',\n",
       "  'post_code': 'TS1 2NX'},\n",
       " {'code': 'A81030',\n",
       "  'name': 'BOROUGH ROAD & NUNTHORPE MEDICAL GROUP',\n",
       "  'addr_1': '167A BOROUGH ROAD',\n",
       "  'addr_2': None,\n",
       "  'borough': 'MIDDLESBROUGH',\n",
       "  'village': None,\n",
       "  'post_code': 'TS1 3RY'},\n",
       " {'code': 'A81031',\n",
       "  'name': 'HAVELOCK GRANGE PRACTICE',\n",
       "  'addr_1': 'ONE LIFE HARTLEPOOL',\n",
       "  'addr_2': 'PARK ROAD',\n",
       "  'borough': 'HARTLEPOOL',\n",
       "  'village': 'CLEVELAND',\n",
       "  'post_code': 'TS24 7PW'},\n",
       " {'code': 'A81032',\n",
       "  'name': 'THE GARTH',\n",
       "  'addr_1': 'THE GARTH SURGERY',\n",
       "  'addr_2': 'RECTORY LANE',\n",
       "  'borough': 'GUISBOROUGH',\n",
       "  'village': 'CLEVELAND',\n",
       "  'post_code': 'TS14 7DJ'},\n",
       " {'code': 'A81033',\n",
       "  'name': 'OAKFIELD MEDICAL PRACTICE',\n",
       "  'addr_1': 'OAKFIELDS MED PRACTICE',\n",
       "  'addr_2': '1 TRINITY MEWS N. ORMESBY',\n",
       "  'borough': 'MIDDLESBROUGH',\n",
       "  'village': None,\n",
       "  'post_code': 'TS3 6AL'},\n",
       " {'code': 'A81034',\n",
       "  'name': 'THORNABY & BARWICK MEDICAL GROUP',\n",
       "  'addr_1': 'THORNABY HEALTH CENTRE',\n",
       "  'addr_2': 'TRENCHARD AVE  THORNABY',\n",
       "  'borough': 'STOCKTON ON TEES',\n",
       "  'village': 'CLEVELAND',\n",
       "  'post_code': 'TS17 0EE'},\n",
       " {'code': 'A81035',\n",
       "  'name': 'NEWLANDS MEDICAL CENTRE',\n",
       "  'addr_1': 'NEWLANDS MEDICAL CENTRE',\n",
       "  'addr_2': 'BOROUGH ROAD',\n",
       "  'borough': 'MIDDLESBROUGH',\n",
       "  'village': 'CLEVELAND',\n",
       "  'post_code': 'TS1 3RX'},\n",
       " {'code': 'A81036',\n",
       "  'name': 'NORTON MEDICAL CENTRE',\n",
       "  'addr_1': 'NORTON MEDICAL CENTRE',\n",
       "  'addr_2': 'BILLINGHAM ROAD  NORTON',\n",
       "  'borough': 'STOCKTON-ON-TEES',\n",
       "  'village': 'CLEVELAND',\n",
       "  'post_code': 'TS20 2UZ'},\n",
       " {'code': 'A81037',\n",
       "  'name': 'THE ERIMUS PRACTICE',\n",
       "  'addr_1': 'THE CLEVELAND HEALTH CTR',\n",
       "  'addr_2': '20 CLEVELAND SQUARE',\n",
       "  'borough': 'MIDDLESBROUGH',\n",
       "  'village': None,\n",
       "  'post_code': 'TS1 2NX'},\n",
       " {'code': 'A81038',\n",
       "  'name': 'HIRSEL MEDICAL CENTRE',\n",
       "  'addr_1': 'HIRSEL MEDICAL CENTRE',\n",
       "  'addr_2': '5 TRINITY MEWS  N.ORMESBY',\n",
       "  'borough': 'MIDDLESBROUGH',\n",
       "  'village': 'CLEVELAND',\n",
       "  'post_code': 'TS3 6AL'},\n",
       " {'code': 'A81039',\n",
       "  'name': 'EAGLESCLIFFE MEDICAL PRACTICE',\n",
       "  'addr_1': 'EAGLESCLIFFE MED PRACTICE',\n",
       "  'addr_2': 'SUNNINGDALE DRIVE',\n",
       "  'borough': 'EAGLESCLIFFE',\n",
       "  'village': 'STOCKTON-ON-TEES',\n",
       "  'post_code': 'TS16 9EA'},\n",
       " {'code': 'A81040',\n",
       "  'name': 'MARSH HOUSE MEDICAL PRACTICE',\n",
       "  'addr_1': 'ABBEY HEALTH CENTRE',\n",
       "  'addr_2': 'FINCHALE AVENUE',\n",
       "  'borough': 'BILLINGHAM',\n",
       "  'village': 'CLEVELAND',\n",
       "  'post_code': 'TS23 2DG'},\n",
       " {'code': 'A81041',\n",
       "  'name': 'HART MEDICAL PRACTICE',\n",
       "  'addr_1': 'HART MEDICAL PRACTICE',\n",
       "  'addr_2': 'SURGERY LANE',\n",
       "  'borough': 'HARTLEPOOL',\n",
       "  'village': 'CLEVELAND',\n",
       "  'post_code': 'TS24 9DN'},\n",
       " {'code': 'A81042',\n",
       "  'name': 'SOUTH GRANGE MEDICAL CENTRE',\n",
       "  'addr_1': 'SOUTH GRANGE MEDICAL CTR.',\n",
       "  'addr_2': 'TRUNK ROAD  ESTON',\n",
       "  'borough': 'MIDDLESBROUGH',\n",
       "  'village': 'CLEVELAND',\n",
       "  'post_code': 'TS6 9QG'},\n",
       " {'code': 'A81043',\n",
       "  'name': 'THE MANOR HOUSE SURGERY',\n",
       "  'addr_1': 'THE MANOR HOUSE SURGERY',\n",
       "  'addr_2': 'BRAIDWOOD ROAD  NORMANBY',\n",
       "  'borough': 'MIDDLESBROUGH',\n",
       "  'village': 'CLEVELAND',\n",
       "  'post_code': 'TS6 0HA'},\n",
       " {'code': 'A81044',\n",
       "  'name': 'MCKENZIE HOUSE SURGERY',\n",
       "  'addr_1': 'MCKENZIE HOUSE',\n",
       "  'addr_2': '17 KENDAL ROAD',\n",
       "  'borough': 'HARTLEPOOL',\n",
       "  'village': 'CLEVELAND',\n",
       "  'post_code': 'TS25 1QU'},\n",
       " {'code': 'A81045',\n",
       "  'name': 'THE COATHAM ROAD SURGERY',\n",
       "  'addr_1': 'THE COATHAM SURGERY',\n",
       "  'addr_2': 'COATHAM HEALTH VILLAGE',\n",
       "  'borough': 'REDCAR',\n",
       "  'village': 'CLEVELAND',\n",
       "  'post_code': 'TS10 1SR'},\n",
       " {'code': 'A81046',\n",
       "  'name': 'WOODLANDS FAMILY MEDICAL CENTRE',\n",
       "  'addr_1': 'WOODLANDS FAMILY MED. CTR',\n",
       "  'addr_2': '106 YARM LANE',\n",
       "  'borough': 'STOCKTON-ON-TEES',\n",
       "  'village': 'CLEVELAND',\n",
       "  'post_code': 'TS18 1YE'},\n",
       " {'code': 'A81047',\n",
       "  'name': 'MARSKE MEDICAL CENTRE',\n",
       "  'addr_1': 'THE MEDICAL CENTRE',\n",
       "  'addr_2': 'HALL CLOSE',\n",
       "  'borough': 'MARSKE-BY-THE-SEA',\n",
       "  'village': 'REDCAR CLEVELAND',\n",
       "  'post_code': 'TS11 6BW'},\n",
       " {'code': 'A81048',\n",
       "  'name': 'ZETLAND MEDICAL PRACTICE',\n",
       "  'addr_1': 'WINDY HILL LANE',\n",
       "  'addr_2': 'MARSKE BY THE SEA',\n",
       "  'borough': 'REDCAR',\n",
       "  'village': 'CLEVELAND',\n",
       "  'post_code': 'TS11 7BL'},\n",
       " {'code': 'A81049',\n",
       "  'name': 'KINGS MEDICAL CENTRE',\n",
       "  'addr_1': 'KINGS MEDICAL CENTRE',\n",
       "  'addr_2': '3 TRINITY MEWS N.ORMESBY',\n",
       "  'borough': 'MIDDLESBROUGH',\n",
       "  'village': None,\n",
       "  'post_code': 'TS3 6AL'},\n",
       " {'code': 'A81051',\n",
       "  'name': 'CAMBRIDGE MEDICAL GROUP',\n",
       "  'addr_1': 'THE CAMBRIDGE MED. GROUP',\n",
       "  'addr_2': '10A CAMBRIDGE ROAD',\n",
       "  'borough': 'LINTHORPE  MIDDLESBROUGH',\n",
       "  'village': 'CLEVELAND',\n",
       "  'post_code': 'TS5 5NN'},\n",
       " {'code': 'A81052',\n",
       "  'name': 'THE GREEN HOUSE SURGERY',\n",
       "  'addr_1': 'REDCAR PRIMARY CARE HOSP',\n",
       "  'addr_2': 'WEST DYKE ROAD',\n",
       "  'borough': 'REDCAR',\n",
       "  'village': 'CLEVELAND',\n",
       "  'post_code': 'TS10 4NW'},\n",
       " {'code': 'A81053',\n",
       "  'name': 'WOODSIDE SURGERY',\n",
       "  'addr_1': 'WOODSIDE SURGERY',\n",
       "  'addr_2': '6 HIGH STREET LOFTUS',\n",
       "  'borough': 'SALTBURN-BY-THE-SEA',\n",
       "  'village': 'CLEVELAND',\n",
       "  'post_code': 'TS13 4HW'},\n",
       " {'code': 'A81054',\n",
       "  'name': 'THE SALTSCAR SURGERY',\n",
       "  'addr_1': 'THE SALTSCAR SURGERY',\n",
       "  'addr_2': '22 KIRKLEATHAM STREET',\n",
       "  'borough': 'REDCAR',\n",
       "  'village': 'CLEVELAND',\n",
       "  'post_code': 'TS10 1UA'}]"
      ]
     },
     "execution_count": 20,
     "metadata": {},
     "output_type": "execute_result"
    }
   ],
   "source": [
    "practices[:50]"
   ]
  },
  {
   "cell_type": "markdown",
   "metadata": {},
   "source": [
    "In the following questions we will ask you to explore this data set. You may need to combine pieces of the data set together in order to answer some questions. Not every element of the data set will be used in answering the questions."
   ]
  },
  {
   "cell_type": "markdown",
   "metadata": {},
   "source": [
    "## Question 1: summary_statistics\n",
    "\n",
    "Our beneficiary data (`scripts`) contains quantitative data on the number of items dispensed (`'items'`), the total quantity of item dispensed (`'quantity'`), the net cost of the ingredients (`'nic'`), and the actual cost to the patient (`'act_cost'`). Whenever working with a new data set, it can be useful to calculate summary statistics to develop a feeling for the volume and character of the data. This makes it easier to spot trends and significant features during further stages of analysis.\n",
    "\n",
    "Calculate the sum, mean, standard deviation, and quartile statistics for each of these quantities. Format your results for each quantity as a list: `[sum, mean, standard deviation, 1st quartile, median, 3rd quartile]`. We'll create a `tuple` with these lists for each quantity as a final result."
   ]
  },
  {
   "cell_type": "code",
   "execution_count": 7,
   "metadata": {},
   "outputs": [],
   "source": [
    "from math import sqrt\n",
    "\n",
    "temp_scripts = scripts\n",
    "\n",
    "def describe(key):\n",
    "\n",
    "    total = 0\n",
    "    avg = 0\n",
    "    s = 0\n",
    "    q25 = 0\n",
    "    med = 0\n",
    "    q75 = 0\n",
    "    \n",
    "    item_list = []\n",
    "    for item in temp_scripts:\n",
    "        element = item[key]\n",
    "        total = total+element\n",
    "        item_list.append(element)\n",
    "        \n",
    "    item_list.sort()\n",
    "    \n",
    "    s_len = len(item_list)\n",
    "    avg = total/s_len\n",
    "    \n",
    "    if s_len % 2 == 0:\n",
    "        m1 = item_list[s_len//2]\n",
    "        m2 = item_list[s_len//2 -1]\n",
    "        med = (m1 + m2)/2\n",
    "    else:\n",
    "        med = item_list[s_len//2]\n",
    "    \n",
    "    s_sum = 0\n",
    "    for i in item_list:\n",
    "        s_sum = s_sum + (i - avg)**2\n",
    "\n",
    "    s = sqrt(s_sum/s_len)\n",
    "\n",
    "    q25 = item_list[(s_len+1)//4]\n",
    "    q75 = item_list[3*(s_len+1)//4]\n",
    "    return (total, avg, s, q25, med, q75)"
   ]
  },
  {
   "cell_type": "code",
   "execution_count": 8,
   "metadata": {},
   "outputs": [],
   "source": [
    "summary = [('items', describe('items')),\n",
    "           ('quantity', describe('quantity')),\n",
    "           ('nic', describe('nic')),\n",
    "           ('act_cost', describe('act_cost'))]"
   ]
  },
  {
   "cell_type": "code",
   "execution_count": 46,
   "metadata": {},
   "outputs": [
    {
     "name": "stdout",
     "output_type": "stream",
     "text": [
      "==================\n",
      "Your score:  1.0\n",
      "==================\n"
     ]
    }
   ],
   "source": [
    "grader.score.pw__summary_statistics(summary)"
   ]
  },
  {
   "cell_type": "markdown",
   "metadata": {},
   "source": [
    "## Question 2: most_common_item\n",
    "\n",
    "Often we are not interested only in how the data is distributed in our entire data set, but within particular groups -- for example, how many items of each drug (i.e. `'bnf_name'`) were prescribed? Calculate the total items prescribed for each `'bnf_name'`. What is the most commonly prescribed `'bnf_name'` in our data?\n",
    "\n",
    "To calculate this, we first need to split our data set into groups corresponding with the different values of `'bnf_name'`. Then we can sum the number of items dispensed within in each group. Finally we can find the largest sum.\n",
    "\n",
    "We'll use `'bnf_name'` to construct our groups. You should have *5619* unique values for `'bnf_name'`."
   ]
  },
  {
   "cell_type": "code",
   "execution_count": 9,
   "metadata": {},
   "outputs": [],
   "source": [
    "def getList(data, key):\n",
    "    first = data[0]\n",
    "    bnf_names = {first[key]}\n",
    "    for s in data:\n",
    "        bnf_names.add(s[key])\n",
    "    return bnf_names\n",
    "\n",
    "bnf_names = getList(scripts,'bnf_name')\n",
    "assert(len(bnf_names) == 5619)"
   ]
  },
  {
   "cell_type": "markdown",
   "metadata": {},
   "source": [
    "We want to construct \"groups\" identified by `'bnf_name'`, where each group is a collection of prescriptions (i.e. dictionaries from `scripts`). We'll construct a dictionary called `groups`, using `bnf_names` as the keys. We'll represent a group with a `list`, since we can easily append new members to the group. To split our `scripts` into groups by `'bnf_name'`, we should iterate over `scripts`, appending prescription dictionaries to each group as we encounter them."
   ]
  },
  {
   "cell_type": "code",
   "execution_count": 10,
   "metadata": {},
   "outputs": [],
   "source": [
    "def create_groups(key,data,group_by):\n",
    "    i = 0\n",
    "    groups = {name: [] for name in group_by}\n",
    "    for script in data:\n",
    "        e = script[key]\n",
    "        l = (groups[e])\n",
    "        l.append(script)\n",
    "        groups[e] = l\n",
    "    return groups\n"
   ]
  },
  {
   "cell_type": "markdown",
   "metadata": {},
   "source": [
    "Now that we've constructed our groups we should sum up `'items'` in each group and find the `'bnf_name'` with the largest sum. The result, `max_item`, should have the form `[(bnf_name, item total)]`, e.g. `[('Foobar', 2000)]`."
   ]
  },
  {
   "cell_type": "code",
   "execution_count": 11,
   "metadata": {},
   "outputs": [],
   "source": [
    "def find_max(groups):\n",
    "    max = 0\n",
    "    b_name = ''\n",
    "    key = 'items'\n",
    "    for k, v in groups.items():\n",
    "        total = 0\n",
    "        for item in v:\n",
    "            total = total + item[key]\n",
    "        if max < total:\n",
    "            max = total\n",
    "            b_name = k\n",
    "    return [(b_name, max)]\n",
    "\n",
    "bnf_names = getList(scripts,'bnf_name')\n",
    "g = create_groups('bnf_name',scripts,bnf_names)\n",
    "max_item = find_max(g)"
   ]
  },
  {
   "cell_type": "markdown",
   "metadata": {},
   "source": [
    "**TIP:** If you are getting an error from the grader below, please make sure your answer conforms to the correct format of `[(bnf_name, item total)]`."
   ]
  },
  {
   "cell_type": "code",
   "execution_count": 32,
   "metadata": {},
   "outputs": [
    {
     "name": "stdout",
     "output_type": "stream",
     "text": [
      "==================\n",
      "Your score:  1.0\n",
      "==================\n"
     ]
    }
   ],
   "source": [
    "grader.score.pw__most_common_item(max_item)"
   ]
  },
  {
   "cell_type": "markdown",
   "metadata": {},
   "source": [
    "**Challenge:** Write a function that constructs groups as we did above. The function should accept a list of dictionaries (e.g. `scripts` or `practices`) and a tuple of fields to `groupby` (e.g. `('bnf_name')` or `('bnf_name', 'post_code')`) and returns a dictionary of groups. The following questions will require you to aggregate data in groups, so this could be a useful function for the rest of the miniproject."
   ]
  },
  {
   "cell_type": "code",
   "execution_count": null,
   "metadata": {},
   "outputs": [],
   "source": [
    "def group_by_field(data, fields):\n",
    "    groups = {}\n",
    "        \n",
    "    return groups"
   ]
  },
  {
   "cell_type": "code",
   "execution_count": null,
   "metadata": {},
   "outputs": [],
   "source": [
    "groups = group_by_field(scripts, ('bnf_name',))\n",
    "test_max_item = ...\n",
    "\n",
    "assert test_max_item == max_item"
   ]
  },
  {
   "cell_type": "markdown",
   "metadata": {},
   "source": [
    "## Question 3: postal_totals\n",
    "\n",
    "Our data set is broken up among different files. This is typical for tabular data to reduce redundancy. Each table typically contains data about a particular type of event, processes, or physical object. Data on prescriptions and medical practices are in separate files in our case. If we want to find the total items prescribed in each postal code, we will have to _join_ our prescription data (`scripts`) to our clinic data (`practices`).\n",
    "\n",
    "Find the total items prescribed in each postal code, representing the results as a list of tuples `(post code, total items prescribed)`. Sort your results ascending alphabetically by post code and take only results from the first 100 post codes. Only include post codes if there is at least one prescription from a practice in that post code.\n",
    "\n",
    "**NOTE:** Some practices have multiple postal codes associated with them. Use the alphabetically first postal code."
   ]
  },
  {
   "cell_type": "markdown",
   "metadata": {},
   "source": [
    "We can join `scripts` and `practices` based on the fact that `'practice'` in `scripts` matches `'code'` in `practices`. However, we must first deal with the repeated values of `'code'` in `practices`. We want the alphabetically first postal codes."
   ]
  },
  {
   "cell_type": "code",
   "execution_count": 14,
   "metadata": {},
   "outputs": [],
   "source": [
    "\n",
    "def get_post_code():\n",
    "    p_postal = {}\n",
    "    for practice in practices:\n",
    "        if practice['code'] in p_postal:\n",
    "            prev_val = p_postal[practice['code']]\n",
    "            cur_val = practice['post_code']\n",
    "            if cur_val < prev_val:\n",
    "                p_postal[practice['code']] = cur_val            \n",
    "        else:\n",
    "            p_postal[practice['code']] = practice['post_code']\n",
    "    return p_postal\n",
    "\n",
    "practice_postal = get_post_code()"
   ]
  },
  {
   "cell_type": "markdown",
   "metadata": {},
   "source": [
    "**Challenge:** This is an aggregation of the practice data grouped by practice codes. Write an alternative implementation of the above cell using the `group_by_field` function you defined previously."
   ]
  },
  {
   "cell_type": "code",
   "execution_count": 15,
   "metadata": {},
   "outputs": [],
   "source": [
    "assert practice_postal['K82019'] == 'HP21 8TR'"
   ]
  },
  {
   "cell_type": "markdown",
   "metadata": {},
   "source": [
    "Now we can join `practice_postal` to `scripts`."
   ]
  },
  {
   "cell_type": "code",
   "execution_count": 16,
   "metadata": {},
   "outputs": [],
   "source": [
    "joined = scripts[:]\n",
    "practice_postal = get_post_code()\n",
    "for script in joined:\n",
    "    c = script['practice']\n",
    "    script['post_code'] = practice_postal[c]"
   ]
  },
  {
   "cell_type": "markdown",
   "metadata": {},
   "source": [
    "Finally we'll group the prescription dictionaries in `joined` by `'post_code'` and sum up the items prescribed in each group, as we did in the previous question."
   ]
  },
  {
   "cell_type": "code",
   "execution_count": 17,
   "metadata": {},
   "outputs": [],
   "source": [
    "s_post_code = getList(joined,'post_code')\n",
    "l_post_code = list(s_post_code)\n",
    "l_post_code.sort()\n",
    "items_by_post = create_groups('post_code',joined,l_post_code)"
   ]
  },
  {
   "cell_type": "code",
   "execution_count": 18,
   "metadata": {
    "scrolled": false
   },
   "outputs": [
    {
     "name": "stdout",
     "output_type": "stream",
     "text": [
      "==================\n",
      "Your score:  1.0\n",
      "==================\n"
     ]
    }
   ],
   "source": [
    "#postal_totals = [('B11 4BW', 20673)] * 100\n",
    "postal_all = []\n",
    "key = 'items'\n",
    "for k, v in items_by_post.items():\n",
    "    total = 0\n",
    "    for item in v:\n",
    "        total = total + item[key]\n",
    "    postal_all.append((k,total))\n",
    "\n",
    "postal_totals = postal_all[:100]\n",
    "grader.score.pw__postal_totals(postal_totals)"
   ]
  },
  {
   "cell_type": "markdown",
   "metadata": {},
   "source": [
    "## Question 4: items_by_region\n",
    "\n",
    "Now we'll combine the techniques we've developed to answer a more complex question. Find the most commonly dispensed item in each postal code, representing the results as a list of tuples (`post_code`, `bnf_name`, amount dispensed as proportion of total). Sort your results ascending alphabetically by post code and take only results from the first 100 post codes.\n",
    "\n",
    "**NOTE:** We'll continue to use the `joined` variable we created before, where we've chosen the alphabetically first postal code for each practice. Additionally, some postal codes will have multiple `'bnf_name'` with the same number of items prescribed for the maximum. In this case, we'll take the alphabetically first `'bnf_name'`."
   ]
  },
  {
   "cell_type": "markdown",
   "metadata": {},
   "source": [
    "Now we need to calculate the total items of each `'bnf_name'` prescribed in each `'post_code'`. Use the techniques we developed in the previous questions to calculate these totals. You should have 141196 `('post_code', 'bnf_name')` groups."
   ]
  },
  {
   "cell_type": "code",
   "execution_count": 32,
   "metadata": {},
   "outputs": [],
   "source": [
    "total_items_by_bnf_post = []\n",
    "set_items_by_bnf_post = {('SK11 6JL', 'Co-Magaldrox_Susp 195mg/220mg/5ml S/F')}\n",
    "for script in joined:\n",
    "    set_items_by_bnf_post.add((script['post_code'],script['bnf_name']))\n",
    "\n",
    "total_items_by_bnf_post = list(set_items_by_bnf_post)\n",
    "assert len(total_items_by_bnf_post) == 141196"
   ]
  },
  {
   "cell_type": "markdown",
   "metadata": {},
   "source": [
    "Let's use `total_items` to find the maximum item total for each postal code. To do this, we will want to regroup `total_items_by_bnf_post` by `'post_code'` only, not by `('post_code', 'bnf_name')`. First let's turn `total_items` into a list of dictionaries (similar to `scripts` or `practices`) and then group it by `'post_code'`. You should have 118 groups in the resulting `total_items_by_post` after grouping `total_items` by `'post_code'`."
   ]
  },
  {
   "cell_type": "code",
   "execution_count": 44,
   "metadata": {},
   "outputs": [],
   "source": [
    "total_items = joined\n",
    "total_items_by_post = items_by_post\n",
    "assert len(total_items_by_post) == 118"
   ]
  },
  {
   "cell_type": "markdown",
   "metadata": {},
   "source": [
    "Now we will aggregate the groups in `total_by_item_post` to create `max_item_by_post`. Some `'bnf_name'` have the same item total within a given postal code. Therefore, if more than one `'bnf_name'` has the maximum item total in a given postal code, we'll take the alphabetically first `'bnf_name'`. We can do this by [sorting](https://docs.python.org/2.7/howto/sorting.html) each group according to the item total and `'bnf_name'`."
   ]
  },
  {
   "cell_type": "code",
   "execution_count": 42,
   "metadata": {},
   "outputs": [],
   "source": [
    "max_item_by_post = find_max(total_items_by_post)"
   ]
  },
  {
   "cell_type": "markdown",
   "metadata": {},
   "source": [
    "In order to express the item totals as a proportion of the total amount of items prescribed across all `'bnf_name'` in a postal code, we'll need to use the total items prescribed that we previously calculated as `items_by_post`. Calculate the proportions for the most common `'bnf_names'` for each postal code. Format your answer as a list of tuples: `[(post_code, bnf_name, total)]`"
   ]
  },
  {
   "cell_type": "code",
   "execution_count": 57,
   "metadata": {},
   "outputs": [
    {
     "name": "stdout",
     "output_type": "stream",
     "text": [
      "20673\n"
     ]
    }
   ],
   "source": [
    "count_items_by_post = {}\n",
    "for item in postal_all:\n",
    "    count_items_by_post[item[0]] = item[1]"
   ]
  },
  {
   "cell_type": "code",
   "execution_count": 66,
   "metadata": {},
   "outputs": [],
   "source": [
    "from operator import itemgetter\n",
    "items_by_region_all = []\n",
    "for k, v in total_items_by_post.items():\n",
    "        b_dict = {}\n",
    "        total = 0\n",
    "        for script in v:\n",
    "            e = script['bnf_name']\n",
    "            count_new = script['items']\n",
    "            if e in b_dict:\n",
    "                count = b_dict[e]\n",
    "                c_new = count + count_new\n",
    "                b_dict[e] = c_new\n",
    "            else:\n",
    "                b_dict[e] = count_new\n",
    "            total = total + count_new\n",
    "        sorted_i = sorted(b_dict.items(), key=itemgetter(1,0), reverse=True)\n",
    "        first_element = sorted_i[0]\n",
    "        proportion = first_element[1]/count_items_by_post[k]\n",
    "        items_by_region_all.append((k,first_element[0],proportion))\n",
    "\n",
    "items_by_region = items_by_region_all[:100]\n",
    "#'B11 4BW', 'Salbutamol_Inha 100mcg (200 D) CFF', 0.0341508247)] * 100"
   ]
  },
  {
   "cell_type": "code",
   "execution_count": 67,
   "metadata": {},
   "outputs": [
    {
     "name": "stdout",
     "output_type": "stream",
     "text": [
      "==================\n",
      "Your score:  1.0\n",
      "==================\n"
     ]
    }
   ],
   "source": [
    "grader.score.pw__items_by_region(items_by_region)"
   ]
  },
  {
   "cell_type": "markdown",
   "metadata": {},
   "source": [
    "*Copyright &copy; 2019 The Data Incubator.  All rights reserved.*"
   ]
  }
 ],
 "metadata": {
  "kernelspec": {
   "display_name": "Python 3",
   "language": "python",
   "name": "python3"
  },
  "language_info": {
   "codemirror_mode": {
    "name": "ipython",
    "version": 3
   },
   "file_extension": ".py",
   "mimetype": "text/x-python",
   "name": "python",
   "nbconvert_exporter": "python",
   "pygments_lexer": "ipython3",
   "version": "3.7.4"
  },
  "nbclean": true
 },
 "nbformat": 4,
 "nbformat_minor": 1
}
